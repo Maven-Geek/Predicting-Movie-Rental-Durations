{
 "cells": [
  {
   "cell_type": "markdown",
   "id": "b4ae5707-109f-4cd6-8168-88cac0179d6b",
   "metadata": {},
   "source": [
    "![dvd_image](dvd_image.jpg)\n",
    "\n",
    "A DVD rental company needs your help! They want to figure out how many days a customer will rent a DVD for based on some features and has approached you for help. They want you to try out some regression models which will help predict the number of days a customer will rent a DVD for. The company wants a model which yeilds a MSE of 3 or less on a test set. The model you make will help the company become more efficient inventory planning.\n",
    "\n",
    "The data they provided is in the csv file `rental_info.csv`. It has the following features:\n",
    "- `\"rental_date\"`: The date (and time) the customer rents the DVD.\n",
    "- `\"return_date\"`: The date (and time) the customer returns the DVD.\n",
    "- `\"amount\"`: The amount paid by the customer for renting the DVD.\n",
    "- `\"amount_2\"`: The square of `\"amount\"`.\n",
    "- `\"rental_rate\"`: The rate at which the DVD is rented for.\n",
    "- `\"rental_rate_2\"`: The square of `\"rental_rate\"`.\n",
    "- `\"release_year\"`: The year the movie being rented was released.\n",
    "- `\"length\"`: Lenght of the movie being rented, in minuites.\n",
    "- `\"length_2\"`: The square of `\"length\"`.\n",
    "- `\"replacement_cost\"`: The amount it will cost the company to replace the DVD.\n",
    "- `\"special_features\"`: Any special features, for example trailers/deleted scenes that the DVD also has.\n",
    "- `\"NC-17\"`, `\"PG\"`, `\"PG-13\"`, `\"R\"`: These columns are dummy variables of the rating of the movie. It takes the value 1 if the move is rated as the column name and 0 otherwise. For your convinience, the reference dummy has already been dropped."
   ]
  },
  {
   "cell_type": "code",
   "execution_count": 1,
   "id": "a7ede566-910a-445c-b11a-68d192ac8506",
   "metadata": {
    "executionCancelledAt": null,
    "executionTime": 178,
    "lastExecutedAt": 1686931416969,
    "lastScheduledRunId": null,
    "lastSuccessfullyExecutedCode": "# Start your coding from below\nimport pandas as pd\nimport numpy as np\n\nfrom sklearn.model_selection import train_test_split\nfrom sklearn.metrics import mean_squared_error"
   },
   "outputs": [],
   "source": [
    "import pandas as pd\n",
    "import numpy as np\n",
    "\n",
    "from sklearn.model_selection import train_test_split\n",
    "from sklearn.metrics import mean_squared_error\n",
    "\n",
    "# Import any additional modules and start coding below\n",
    "from sklearn.linear_model import LinearRegression\n",
    "from sklearn.ensemble import RandomForestRegressor\n",
    "from sklearn.ensemble import GradientBoostingRegressor\n",
    "from sklearn.ensemble import AdaBoostRegressor\n",
    "from sklearn.linear_model import Lasso\n",
    "from sklearn.svm import SVR\n",
    "from sklearn.neighbors import KNeighborsRegressor\n",
    "import xgboost as xgb\n",
    "from sklearn.pipeline import make_pipeline, Pipeline\n",
    "from sklearn.preprocessing import StandardScaler\n",
    "from sklearn.model_selection import RandomizedSearchCV\n",
    "\n",
    "\n",
    "rent_df = pd.read_csv('rental_info.csv')"
   ]
  },
  {
   "cell_type": "code",
   "execution_count": 2,
   "id": "5e86ae50-0c65-4463-8cbe-f2d36d2e03fa",
   "metadata": {},
   "outputs": [],
   "source": [
    "# Pre-processing\n",
    "rent_df['rental_date'] = pd.to_datetime(rent_df['rental_date'])\n",
    "rent_df['return_date'] = pd.to_datetime(rent_df['return_date'])\n",
    "rent_df[\"rental_length_days\"] = (rent_df['return_date'] - rent_df['rental_date']).apply(lambda x: x.days)\n",
    "rent_df['behind_the_scenes'] = rent_df['special_features'].apply(lambda x: 1 if 'Behind the Scenes' in x else 0)\n",
    "rent_df['deleted_scenes'] = (rent_df['special_features'].apply(lambda x: 1 if 'Deleted Scenes' in x else 0))\n",
    "rent_df = rent_df.drop(columns=['special_features','rental_date', 'return_date'], axis=1)\n",
    "#rent_df = rent_df.drop(columns=['amount_2','length_2', 'rental_rate_2'], axis=1)"
   ]
  },
  {
   "cell_type": "code",
   "execution_count": 3,
   "id": "0833ae8c-99cd-4e65-a81f-664ca41552f7",
   "metadata": {},
   "outputs": [],
   "source": [
    "# Seperating the features and the target variable\n",
    "X = rent_df.drop('rental_length_days', axis=1)\n",
    "y = rent_df['rental_length_days']"
   ]
  },
  {
   "cell_type": "code",
   "execution_count": 4,
   "id": "7293073e-eff2-463a-81dd-9e5bfe40aa74",
   "metadata": {},
   "outputs": [],
   "source": [
    "# Splitting to test and train dataset\n",
    "X_train, X_test, y_train, y_test = train_test_split(X,y, test_size=0.2, random_state=9)"
   ]
  },
  {
   "cell_type": "code",
   "execution_count": 5,
   "id": "b36a9482-f7bf-45e2-ab89-55226adadfa6",
   "metadata": {},
   "outputs": [],
   "source": [
    "# Making a pipeline for the Regressor models\n",
    "\n",
    "\n",
    "pipelines  = {\n",
    "    'linear_regression': Pipeline([('scaler', StandardScaler()), ('regressor', LinearRegression())]),\n",
    "    'lasso_regression': Pipeline([('scaler', StandardScaler()), ('regressor', Lasso(alpha=0.1))]),\n",
    "    'gradient_boosting': Pipeline([('scaler', StandardScaler()), ('regressor', GradientBoostingRegressor(n_estimators=100, random_state=9))]),\n",
    "    'random_forest': Pipeline([('scaler', StandardScaler()), ('regressor', RandomForestRegressor(n_estimators=100, random_state=6, n_jobs=-1))]), # R search\n",
    "    'ada_boosting': Pipeline([('scaler', StandardScaler()), ('regressor', AdaBoostRegressor(n_estimators=100, random_state=9))]),\n",
    "    #'svr': Pipeline([('scaler', StandardScaler()), ('regressor', SVR(kernel='rbf'))]), # It takes more time compared to others\n",
    "    'knn': Pipeline([('scaler', StandardScaler()), ('regressor', KNeighborsRegressor(n_neighbors=4, n_jobs=-1))]),\n",
    "    'xgb': Pipeline([('scaler', StandardScaler()), ('regressor', xgb.XGBRegressor(random_state=9))]),\n",
    "}\n",
    "\n"
   ]
  },
  {
   "cell_type": "code",
   "execution_count": 6,
   "id": "ba773141-ef25-4c0e-a7be-66484c4d2f86",
   "metadata": {},
   "outputs": [
    {
     "name": "stdout",
     "output_type": "stream",
     "text": [
      "Model linear_regression had an MSE of 2.9417238646975976\n",
      "Model lasso_regression had an MSE of 3.0784650026615705\n",
      "Model gradient_boosting had an MSE of 2.4253464800253557\n",
      "Model random_forest had an MSE of 2.0322543432946714\n",
      "Model ada_boosting had an MSE of 3.1994572542061306\n",
      "Model knn had an MSE of 2.7614836117239205\n",
      "Model xgb had an MSE of 1.9058708283906145\n"
     ]
    }
   ],
   "source": [
    "# Predicting and calculating MSE using the models in the pipeline\n",
    "models_mse = []\n",
    "models = []\n",
    "for name,pipeline in pipelines.items():\n",
    "    pipeline.fit(X_train, y_train)\n",
    "    y_pred = pipeline.predict(X_test)\n",
    "    mse = mean_squared_error(y_test,y_pred)\n",
    "    models_mse.append(mse)\n",
    "    models.append(pipeline[1])\n",
    "    print(f\"Model {name} had an MSE of {mse}\")"
   ]
  },
  {
   "cell_type": "code",
   "execution_count": 7,
   "id": "99b70e79-76af-4ee1-930f-69bba54eed24",
   "metadata": {},
   "outputs": [
    {
     "name": "stdout",
     "output_type": "stream",
     "text": [
      "The best model is XGBRegressor(base_score=None, booster=None, callbacks=None,\n",
      "             colsample_bylevel=None, colsample_bynode=None,\n",
      "             colsample_bytree=None, device=None, early_stopping_rounds=None,\n",
      "             enable_categorical=False, eval_metric=None, feature_types=None,\n",
      "             gamma=None, grow_policy=None, importance_type=None,\n",
      "             interaction_constraints=None, learning_rate=None, max_bin=None,\n",
      "             max_cat_threshold=None, max_cat_to_onehot=None,\n",
      "             max_delta_step=None, max_depth=None, max_leaves=None,\n",
      "             min_child_weight=None, missing=nan, monotone_constraints=None,\n",
      "             multi_strategy=None, n_estimators=None, n_jobs=None,\n",
      "             num_parallel_tree=None, random_state=9, ...) with an MSE of 1.9058708283906145\n"
     ]
    }
   ],
   "source": [
    "# The best model using MSE score\n",
    "best_model = models[np.argmin(models_mse)]\n",
    "best_mse = models_mse[np.argmin(models_mse)]\n",
    "print(f'The best model is {best_model} with an MSE of {best_mse}')"
   ]
  }
 ],
 "metadata": {
  "colab": {
   "name": "Welcome to DataCamp Workspaces.ipynb",
   "provenance": []
  },
  "kernelspec": {
   "display_name": "Python 3 (ipykernel)",
   "language": "python",
   "name": "python3"
  },
  "language_info": {
   "codemirror_mode": {
    "name": "ipython",
    "version": 3
   },
   "file_extension": ".py",
   "mimetype": "text/x-python",
   "name": "python",
   "nbconvert_exporter": "python",
   "pygments_lexer": "ipython3",
   "version": "3.11.7"
  }
 },
 "nbformat": 4,
 "nbformat_minor": 5
}
